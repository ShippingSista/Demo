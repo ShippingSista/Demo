{
    "cells": [
        {
            "cell_type": "markdown",
            "metadata": {
                "collapsed": true
            },
            "source": "# My Jupyter Notebook on IBM Watson Studios"
        },
        {
            "cell_type": "markdown",
            "metadata": {},
            "source": "**Christina Harrison**\nBusiness Analyst"
        },
        {
            "cell_type": "markdown",
            "metadata": {},
            "source": "_My interest in Data Science is mostly due to the fact that I want to change my career. Recently I have learned that our future will require a need to change my career.  I am lookiog for one that is better suited to work from home and allows me the opportunity to work on a project basis.  I enjoyed the work that I have done in the past with database maintenance and I wish to continue that with the ability to interprete that data for various orgainizations to help them develop a better action plan to retain customers.  Customer churn and product/service development are interesting to me and I would like to further my skills utilizing the new age of Data Science methodologies._ "
        },
        {
            "cell_type": "markdown",
            "metadata": {},
            "source": "### This is how you get to 52"
        },
        {
            "cell_type": "code",
            "execution_count": 3,
            "metadata": {},
            "outputs": [
                {
                    "data": {
                        "text/plain": "52"
                    },
                    "execution_count": 3,
                    "metadata": {},
                    "output_type": "execute_result"
                }
            ],
            "source": "2020-1968"
        },
        {
            "cell_type": "markdown",
            "metadata": {},
            "source": "### How to create both an ordered list in Markdown. \n1. Enter your first list item\n2. Then add another item\n1. Use a number (any ole number)\n1. Then continue with your sub-list\n8. Continue adding items\n\n   You can indent your list like this but use a blank line and leading spaces like I just did. \n\n\nLines\n\n---\nLists\n\n***\nLoads\n\n___"
        },
        {
            "cell_type": "markdown",
            "metadata": {},
            "source": "### This class needs: \n\n* Structured Learning Material\n- Step by Step Instructions\n+ Links to `YouTube videos` for more hands-on learning\n\n___\n\n[IBM Watson Studios:Learn Jupyter Notebooks](https://youtu.be/Jtej3Y6uUng)\n"
        }
    ],
    "metadata": {
        "kernelspec": {
            "display_name": "Python 3.6",
            "language": "python",
            "name": "python3"
        },
        "language_info": {
            "codemirror_mode": {
                "name": "ipython",
                "version": 3
            },
            "file_extension": ".py",
            "mimetype": "text/x-python",
            "name": "python",
            "nbconvert_exporter": "python",
            "pygments_lexer": "ipython3",
            "version": "3.6.9"
        }
    },
    "nbformat": 4,
    "nbformat_minor": 1
}